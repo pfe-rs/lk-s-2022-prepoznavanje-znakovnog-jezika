{
 "cells": [
  {
   "cell_type": "markdown",
   "id": "861377af",
   "metadata": {},
   "source": [
    "# ASL Keypoint Classification"
   ]
  },
  {
   "cell_type": "code",
   "execution_count": 141,
   "id": "210844db",
   "metadata": {},
   "outputs": [],
   "source": [
    "import cv2\n",
    "import mediapipe as mp\n",
    "import time\n",
    "import pandas as pd\n",
    "import numpy as np\n",
    "import random\n",
    "import matplotlib.pyplot as plt\n",
    "from keras.utils import to_categorical"
   ]
  },
  {
   "cell_type": "code",
   "execution_count": 142,
   "id": "f5991428",
   "metadata": {},
   "outputs": [],
   "source": [
    "import numpy as np\n",
    "import pandas as pd\n",
    "import os\n",
    "os.environ['TF_CPP_MIN_LOG_LEVEL'] = '2'\n",
    "import sys\n",
    "import time\n",
    "import matplotlib.pyplot as plt\n",
    "import cv2\n",
    "import seaborn as sns\n",
    "sns.set_style('darkgrid')\n",
    "import shutil\n",
    "from sklearn.metrics import confusion_matrix, classification_report\n",
    "from sklearn.model_selection import train_test_split\n",
    "import tensorflow as tf\n",
    "from tensorflow import keras\n",
    "from tensorflow.keras.preprocessing.image import ImageDataGenerator\n",
    "from tensorflow.keras.layers import Dense, Activation,Dropout,Conv2D, MaxPooling2D,BatchNormalization\n",
    "from tensorflow.keras.optimizers import Adam, Adamax\n",
    "from tensorflow.keras.metrics import categorical_crossentropy\n",
    "from tensorflow.keras import regularizers\n",
    "from tensorflow.keras.models import Model\n",
    "from tensorflow.data import Dataset"
   ]
  },
  {
   "cell_type": "code",
   "execution_count": 143,
   "id": "a87db6ce",
   "metadata": {},
   "outputs": [],
   "source": [
    "from keras.models import Sequential\n",
    "from keras.layers import Conv2D, MaxPooling2D, Dense, Flatten, Dropout"
   ]
  },
  {
   "cell_type": "markdown",
   "id": "12cbd577",
   "metadata": {},
   "source": [
    "**Neke bitne funkcije se nalaze unutar posebnog fajla**"
   ]
  },
  {
   "cell_type": "code",
   "execution_count": 144,
   "id": "9feb30e5",
   "metadata": {},
   "outputs": [],
   "source": [
    "%run ../Funkcije.ipynb"
   ]
  },
  {
   "cell_type": "markdown",
   "id": "cb145da6",
   "metadata": {},
   "source": [
    "### Učitavanje keypoint baze podataka"
   ]
  },
  {
   "cell_type": "code",
   "execution_count": 145,
   "id": "c6977dc2",
   "metadata": {},
   "outputs": [],
   "source": [
    "data_path = r'../dataset/Synthetic ASL Alphabet - keypoints/' \n",
    "train_x, train_y, test_x, test_y, valid_x, valid_y = load_keypoint_database(data_path)"
   ]
  },
  {
   "cell_type": "code",
   "execution_count": 146,
   "id": "a7f22561",
   "metadata": {},
   "outputs": [],
   "source": [
    "NUM_OF_CLASSES = 24"
   ]
  },
  {
   "cell_type": "markdown",
   "id": "f6cb5d67",
   "metadata": {},
   "source": [
    "### Arhitektura"
   ]
  },
  {
   "cell_type": "code",
   "execution_count": 147,
   "id": "13e61c8a",
   "metadata": {},
   "outputs": [],
   "source": [
    "es_callback = tf.keras.callbacks.EarlyStopping(monitor='val_accuracy', patience=20, verbose=1)"
   ]
  },
  {
   "cell_type": "code",
   "execution_count": 148,
   "id": "f53c05b6",
   "metadata": {},
   "outputs": [
    {
     "name": "stdout",
     "output_type": "stream",
     "text": [
      "Model: \"sequential_1\"\n",
      "_________________________________________________________________\n",
      " Layer (type)                Output Shape              Param #   \n",
      "=================================================================\n",
      " dense_3 (Dense)             (None, 63)                4032      \n",
      "                                                                 \n",
      " dropout_1 (Dropout)         (None, 63)                0         \n",
      "                                                                 \n",
      " dense_4 (Dense)             (None, 42)                2688      \n",
      "                                                                 \n",
      " dense_5 (Dense)             (None, 24)                1032      \n",
      "                                                                 \n",
      "=================================================================\n",
      "Total params: 7,752\n",
      "Trainable params: 7,752\n",
      "Non-trainable params: 0\n",
      "_________________________________________________________________\n"
     ]
    }
   ],
   "source": [
    "model = tf.keras.models.Sequential([\n",
    "    tf.keras.layers.Input((21 * 3,)),\n",
    "    #tf.keras.layers.Dropout(0.2),\n",
    "    tf.keras.layers.Dense(63, activation='relu'),\n",
    "    tf.keras.layers.Dropout(0.1),\n",
    "    tf.keras.layers.Dense(42, activation='relu'),\n",
    "    tf.keras.layers.Dense(NUM_OF_CLASSES, activation='softmax')\n",
    "])\n",
    "\n",
    "model.compile(\n",
    "    optimizer=Adam(),\n",
    "    loss='categorical_crossentropy',\n",
    "    metrics=['accuracy']\n",
    ")\n",
    "\n",
    "model.summary()"
   ]
  },
  {
   "cell_type": "markdown",
   "id": "7d0cf7f9",
   "metadata": {},
   "source": [
    "### Treniranje"
   ]
  },
  {
   "cell_type": "code",
   "execution_count": 149,
   "id": "ec935138",
   "metadata": {
    "scrolled": true
   },
   "outputs": [
    {
     "name": "stdout",
     "output_type": "stream",
     "text": [
      "Epoch 1/400\n",
      "120/120 [==============================] - 5s 6ms/step - loss: 3.0968 - accuracy: 0.0842 - val_loss: 2.8429 - val_accuracy: 0.2267\n",
      "Epoch 2/400\n",
      "120/120 [==============================] - 0s 4ms/step - loss: 2.6217 - accuracy: 0.2117 - val_loss: 2.1025 - val_accuracy: 0.5150\n",
      "Epoch 3/400\n",
      "120/120 [==============================] - 1s 4ms/step - loss: 2.0950 - accuracy: 0.3615 - val_loss: 1.5488 - val_accuracy: 0.6525\n",
      "Epoch 4/400\n",
      "120/120 [==============================] - 0s 4ms/step - loss: 1.7649 - accuracy: 0.4630 - val_loss: 1.2654 - val_accuracy: 0.6950\n",
      "Epoch 5/400\n",
      "120/120 [==============================] - 0s 3ms/step - loss: 1.5847 - accuracy: 0.5178 - val_loss: 1.0544 - val_accuracy: 0.8192\n",
      "Epoch 6/400\n",
      "120/120 [==============================] - 0s 3ms/step - loss: 1.4478 - accuracy: 0.5678 - val_loss: 0.9328 - val_accuracy: 0.8150\n",
      "Epoch 7/400\n",
      "120/120 [==============================] - 0s 4ms/step - loss: 1.3540 - accuracy: 0.5972 - val_loss: 0.8428 - val_accuracy: 0.8633\n",
      "Epoch 8/400\n",
      "120/120 [==============================] - 0s 3ms/step - loss: 1.2721 - accuracy: 0.6294 - val_loss: 0.7886 - val_accuracy: 0.8467\n",
      "Epoch 9/400\n",
      "120/120 [==============================] - 0s 3ms/step - loss: 1.2185 - accuracy: 0.6439 - val_loss: 0.7164 - val_accuracy: 0.8850\n",
      "Epoch 10/400\n",
      "120/120 [==============================] - 0s 3ms/step - loss: 1.1774 - accuracy: 0.6629 - val_loss: 0.7130 - val_accuracy: 0.9150\n",
      "Epoch 11/400\n",
      "120/120 [==============================] - 0s 3ms/step - loss: 1.1342 - accuracy: 0.6718 - val_loss: 0.6555 - val_accuracy: 0.8608\n",
      "Epoch 12/400\n",
      "120/120 [==============================] - 0s 3ms/step - loss: 1.1014 - accuracy: 0.6835 - val_loss: 0.6364 - val_accuracy: 0.9000\n",
      "Epoch 13/400\n",
      "120/120 [==============================] - 0s 3ms/step - loss: 1.0641 - accuracy: 0.7009 - val_loss: 0.6081 - val_accuracy: 0.9283\n",
      "Epoch 14/400\n",
      "120/120 [==============================] - 0s 3ms/step - loss: 1.0364 - accuracy: 0.7046 - val_loss: 0.5984 - val_accuracy: 0.8675\n",
      "Epoch 15/400\n",
      "120/120 [==============================] - 0s 4ms/step - loss: 1.0252 - accuracy: 0.7072 - val_loss: 0.5609 - val_accuracy: 0.9242\n",
      "Epoch 16/400\n",
      "120/120 [==============================] - 0s 3ms/step - loss: 0.9990 - accuracy: 0.7141 - val_loss: 0.5624 - val_accuracy: 0.9033\n",
      "Epoch 17/400\n",
      "120/120 [==============================] - 0s 3ms/step - loss: 0.9735 - accuracy: 0.7299 - val_loss: 0.5386 - val_accuracy: 0.8783\n",
      "Epoch 18/400\n",
      "120/120 [==============================] - 0s 3ms/step - loss: 0.9561 - accuracy: 0.7313 - val_loss: 0.5349 - val_accuracy: 0.8675\n",
      "Epoch 19/400\n",
      "120/120 [==============================] - 0s 3ms/step - loss: 0.9321 - accuracy: 0.7423 - val_loss: 0.4973 - val_accuracy: 0.9500\n",
      "Epoch 20/400\n",
      "120/120 [==============================] - 0s 3ms/step - loss: 0.9147 - accuracy: 0.7455 - val_loss: 0.4828 - val_accuracy: 0.9317\n",
      "Epoch 21/400\n",
      "120/120 [==============================] - 0s 3ms/step - loss: 0.9142 - accuracy: 0.7466 - val_loss: 0.4923 - val_accuracy: 0.9225\n",
      "Epoch 22/400\n",
      "120/120 [==============================] - 0s 3ms/step - loss: 0.9001 - accuracy: 0.7449 - val_loss: 0.4573 - val_accuracy: 0.9367\n",
      "Epoch 23/400\n",
      "120/120 [==============================] - 0s 3ms/step - loss: 0.8782 - accuracy: 0.7572 - val_loss: 0.4660 - val_accuracy: 0.9175\n",
      "Epoch 24/400\n",
      "120/120 [==============================] - 0s 3ms/step - loss: 0.8714 - accuracy: 0.7598 - val_loss: 0.4209 - val_accuracy: 0.9408\n",
      "Epoch 25/400\n",
      "120/120 [==============================] - 0s 3ms/step - loss: 0.8612 - accuracy: 0.7621 - val_loss: 0.4189 - val_accuracy: 0.9433\n",
      "Epoch 26/400\n",
      "120/120 [==============================] - 0s 3ms/step - loss: 0.8518 - accuracy: 0.7632 - val_loss: 0.4552 - val_accuracy: 0.8900\n",
      "Epoch 27/400\n",
      "120/120 [==============================] - 0s 3ms/step - loss: 0.8385 - accuracy: 0.7638 - val_loss: 0.4201 - val_accuracy: 0.9400\n",
      "Epoch 28/400\n",
      "120/120 [==============================] - 0s 3ms/step - loss: 0.8320 - accuracy: 0.7682 - val_loss: 0.4061 - val_accuracy: 0.9417\n",
      "Epoch 29/400\n",
      "120/120 [==============================] - 0s 3ms/step - loss: 0.8225 - accuracy: 0.7743 - val_loss: 0.4008 - val_accuracy: 0.9433\n",
      "Epoch 30/400\n",
      "120/120 [==============================] - 0s 3ms/step - loss: 0.8153 - accuracy: 0.7743 - val_loss: 0.4067 - val_accuracy: 0.9317\n",
      "Epoch 31/400\n",
      "120/120 [==============================] - 0s 3ms/step - loss: 0.8040 - accuracy: 0.7749 - val_loss: 0.3754 - val_accuracy: 0.9475\n",
      "Epoch 32/400\n",
      "120/120 [==============================] - 0s 3ms/step - loss: 0.7906 - accuracy: 0.7768 - val_loss: 0.3680 - val_accuracy: 0.9483\n",
      "Epoch 33/400\n",
      "120/120 [==============================] - 0s 4ms/step - loss: 0.7836 - accuracy: 0.7849 - val_loss: 0.3617 - val_accuracy: 0.9425\n",
      "Epoch 34/400\n",
      "120/120 [==============================] - 0s 4ms/step - loss: 0.7775 - accuracy: 0.7845 - val_loss: 0.3633 - val_accuracy: 0.9450\n",
      "Epoch 35/400\n",
      "120/120 [==============================] - 0s 3ms/step - loss: 0.7719 - accuracy: 0.7828 - val_loss: 0.3540 - val_accuracy: 0.9350\n",
      "Epoch 36/400\n",
      "120/120 [==============================] - 0s 3ms/step - loss: 0.7685 - accuracy: 0.7819 - val_loss: 0.3488 - val_accuracy: 0.9508\n",
      "Epoch 37/400\n",
      "120/120 [==============================] - 0s 3ms/step - loss: 0.7602 - accuracy: 0.7896 - val_loss: 0.3407 - val_accuracy: 0.9375\n",
      "Epoch 38/400\n",
      "120/120 [==============================] - 0s 3ms/step - loss: 0.7530 - accuracy: 0.7902 - val_loss: 0.3292 - val_accuracy: 0.9492\n",
      "Epoch 39/400\n",
      "120/120 [==============================] - 0s 3ms/step - loss: 0.7411 - accuracy: 0.7952 - val_loss: 0.3187 - val_accuracy: 0.9592\n",
      "Epoch 40/400\n",
      "120/120 [==============================] - 0s 3ms/step - loss: 0.7382 - accuracy: 0.7962 - val_loss: 0.3284 - val_accuracy: 0.9417\n",
      "Epoch 41/400\n",
      "120/120 [==============================] - 0s 3ms/step - loss: 0.7252 - accuracy: 0.8023 - val_loss: 0.3168 - val_accuracy: 0.9475\n",
      "Epoch 42/400\n",
      "120/120 [==============================] - 0s 3ms/step - loss: 0.7220 - accuracy: 0.7990 - val_loss: 0.3229 - val_accuracy: 0.9500\n",
      "Epoch 43/400\n",
      "120/120 [==============================] - 0s 3ms/step - loss: 0.7273 - accuracy: 0.7978 - val_loss: 0.3111 - val_accuracy: 0.9517\n",
      "Epoch 44/400\n",
      "120/120 [==============================] - 0s 4ms/step - loss: 0.7126 - accuracy: 0.8060 - val_loss: 0.3192 - val_accuracy: 0.9467\n",
      "Epoch 45/400\n",
      "120/120 [==============================] - 0s 3ms/step - loss: 0.7052 - accuracy: 0.8080 - val_loss: 0.3199 - val_accuracy: 0.9383\n",
      "Epoch 46/400\n",
      "120/120 [==============================] - 0s 3ms/step - loss: 0.6985 - accuracy: 0.8062 - val_loss: 0.2981 - val_accuracy: 0.9417\n",
      "Epoch 47/400\n",
      "120/120 [==============================] - 0s 3ms/step - loss: 0.7000 - accuracy: 0.8037 - val_loss: 0.2976 - val_accuracy: 0.9450\n",
      "Epoch 48/400\n",
      "120/120 [==============================] - 0s 3ms/step - loss: 0.6906 - accuracy: 0.8085 - val_loss: 0.2958 - val_accuracy: 0.9458\n",
      "Epoch 49/400\n",
      "120/120 [==============================] - 0s 3ms/step - loss: 0.6880 - accuracy: 0.8109 - val_loss: 0.3069 - val_accuracy: 0.9433\n",
      "Epoch 50/400\n",
      "120/120 [==============================] - 0s 3ms/step - loss: 0.6751 - accuracy: 0.8092 - val_loss: 0.2819 - val_accuracy: 0.9533\n",
      "Epoch 51/400\n",
      "120/120 [==============================] - 0s 3ms/step - loss: 0.6752 - accuracy: 0.8119 - val_loss: 0.2928 - val_accuracy: 0.9392\n",
      "Epoch 52/400\n",
      "120/120 [==============================] - 0s 3ms/step - loss: 0.6840 - accuracy: 0.8096 - val_loss: 0.2823 - val_accuracy: 0.9383\n",
      "Epoch 53/400\n",
      "120/120 [==============================] - 0s 3ms/step - loss: 0.6691 - accuracy: 0.8159 - val_loss: 0.2683 - val_accuracy: 0.9517\n",
      "Epoch 54/400\n",
      "120/120 [==============================] - 0s 3ms/step - loss: 0.6628 - accuracy: 0.8144 - val_loss: 0.2777 - val_accuracy: 0.9467\n",
      "Epoch 55/400\n",
      "120/120 [==============================] - 0s 3ms/step - loss: 0.6558 - accuracy: 0.8204 - val_loss: 0.2757 - val_accuracy: 0.9433\n",
      "Epoch 56/400\n",
      "120/120 [==============================] - 0s 3ms/step - loss: 0.6546 - accuracy: 0.8163 - val_loss: 0.2860 - val_accuracy: 0.9400\n",
      "Epoch 57/400\n",
      "120/120 [==============================] - 0s 3ms/step - loss: 0.6523 - accuracy: 0.8185 - val_loss: 0.2607 - val_accuracy: 0.9542\n"
     ]
    },
    {
     "name": "stdout",
     "output_type": "stream",
     "text": [
      "Epoch 58/400\n",
      "120/120 [==============================] - 0s 3ms/step - loss: 0.6518 - accuracy: 0.8187 - val_loss: 0.2687 - val_accuracy: 0.9608\n",
      "Epoch 59/400\n",
      "120/120 [==============================] - 0s 3ms/step - loss: 0.6429 - accuracy: 0.8238 - val_loss: 0.2560 - val_accuracy: 0.9550\n",
      "Epoch 60/400\n",
      "120/120 [==============================] - 0s 3ms/step - loss: 0.6349 - accuracy: 0.8277 - val_loss: 0.2504 - val_accuracy: 0.9558\n",
      "Epoch 61/400\n",
      "120/120 [==============================] - 0s 3ms/step - loss: 0.6320 - accuracy: 0.8257 - val_loss: 0.2440 - val_accuracy: 0.9508\n",
      "Epoch 62/400\n",
      "120/120 [==============================] - 0s 3ms/step - loss: 0.6360 - accuracy: 0.8233 - val_loss: 0.2501 - val_accuracy: 0.9542\n",
      "Epoch 63/400\n",
      "120/120 [==============================] - 0s 3ms/step - loss: 0.6291 - accuracy: 0.8230 - val_loss: 0.2427 - val_accuracy: 0.9525\n",
      "Epoch 64/400\n",
      "120/120 [==============================] - 0s 3ms/step - loss: 0.6205 - accuracy: 0.8266 - val_loss: 0.2456 - val_accuracy: 0.9542\n",
      "Epoch 65/400\n",
      "120/120 [==============================] - 0s 3ms/step - loss: 0.6273 - accuracy: 0.8225 - val_loss: 0.2352 - val_accuracy: 0.9533\n",
      "Epoch 66/400\n",
      "120/120 [==============================] - 0s 3ms/step - loss: 0.6194 - accuracy: 0.8277 - val_loss: 0.2517 - val_accuracy: 0.9408\n",
      "Epoch 67/400\n",
      "120/120 [==============================] - 0s 3ms/step - loss: 0.6120 - accuracy: 0.8301 - val_loss: 0.2377 - val_accuracy: 0.9492\n",
      "Epoch 68/400\n",
      "120/120 [==============================] - 0s 3ms/step - loss: 0.6137 - accuracy: 0.8290 - val_loss: 0.2502 - val_accuracy: 0.9467\n",
      "Epoch 69/400\n",
      "120/120 [==============================] - 0s 3ms/step - loss: 0.6081 - accuracy: 0.8280 - val_loss: 0.2443 - val_accuracy: 0.9433\n",
      "Epoch 70/400\n",
      "120/120 [==============================] - 0s 3ms/step - loss: 0.6111 - accuracy: 0.8313 - val_loss: 0.2399 - val_accuracy: 0.9492\n",
      "Epoch 71/400\n",
      "120/120 [==============================] - 0s 3ms/step - loss: 0.5999 - accuracy: 0.8350 - val_loss: 0.2429 - val_accuracy: 0.9425\n",
      "Epoch 72/400\n",
      "120/120 [==============================] - 0s 3ms/step - loss: 0.6070 - accuracy: 0.8309 - val_loss: 0.2276 - val_accuracy: 0.9558\n",
      "Epoch 73/400\n",
      "120/120 [==============================] - 0s 3ms/step - loss: 0.5891 - accuracy: 0.8375 - val_loss: 0.2264 - val_accuracy: 0.9533\n",
      "Epoch 74/400\n",
      "120/120 [==============================] - 0s 3ms/step - loss: 0.5912 - accuracy: 0.8354 - val_loss: 0.2292 - val_accuracy: 0.9517\n",
      "Epoch 75/400\n",
      "120/120 [==============================] - 0s 3ms/step - loss: 0.5975 - accuracy: 0.8328 - val_loss: 0.2384 - val_accuracy: 0.9542\n",
      "Epoch 76/400\n",
      "120/120 [==============================] - 0s 3ms/step - loss: 0.5924 - accuracy: 0.8298 - val_loss: 0.2158 - val_accuracy: 0.9617\n",
      "Epoch 77/400\n",
      "120/120 [==============================] - 0s 3ms/step - loss: 0.5920 - accuracy: 0.8342 - val_loss: 0.2161 - val_accuracy: 0.9458\n",
      "Epoch 78/400\n",
      "120/120 [==============================] - 0s 3ms/step - loss: 0.5826 - accuracy: 0.8398 - val_loss: 0.2206 - val_accuracy: 0.9508\n",
      "Epoch 79/400\n",
      "120/120 [==============================] - 0s 3ms/step - loss: 0.5704 - accuracy: 0.8441 - val_loss: 0.2403 - val_accuracy: 0.9342\n",
      "Epoch 80/400\n",
      "120/120 [==============================] - 0s 4ms/step - loss: 0.5759 - accuracy: 0.8397 - val_loss: 0.2109 - val_accuracy: 0.9567\n",
      "Epoch 81/400\n",
      "120/120 [==============================] - 0s 3ms/step - loss: 0.5736 - accuracy: 0.8419 - val_loss: 0.2239 - val_accuracy: 0.9458\n",
      "Epoch 82/400\n",
      "120/120 [==============================] - 0s 3ms/step - loss: 0.5778 - accuracy: 0.8359 - val_loss: 0.2068 - val_accuracy: 0.9567\n",
      "Epoch 83/400\n",
      "120/120 [==============================] - 0s 3ms/step - loss: 0.5750 - accuracy: 0.8420 - val_loss: 0.2035 - val_accuracy: 0.9558\n",
      "Epoch 84/400\n",
      "120/120 [==============================] - 0s 3ms/step - loss: 0.5667 - accuracy: 0.8422 - val_loss: 0.2100 - val_accuracy: 0.9492\n",
      "Epoch 85/400\n",
      "120/120 [==============================] - 0s 3ms/step - loss: 0.5648 - accuracy: 0.8417 - val_loss: 0.2128 - val_accuracy: 0.9575\n",
      "Epoch 86/400\n",
      "120/120 [==============================] - 0s 3ms/step - loss: 0.5574 - accuracy: 0.8424 - val_loss: 0.1953 - val_accuracy: 0.9608\n",
      "Epoch 87/400\n",
      "120/120 [==============================] - 0s 3ms/step - loss: 0.5568 - accuracy: 0.8465 - val_loss: 0.2156 - val_accuracy: 0.9525\n",
      "Epoch 88/400\n",
      "120/120 [==============================] - 0s 3ms/step - loss: 0.5604 - accuracy: 0.8471 - val_loss: 0.2037 - val_accuracy: 0.9558\n",
      "Epoch 89/400\n",
      "120/120 [==============================] - 0s 3ms/step - loss: 0.5641 - accuracy: 0.8376 - val_loss: 0.2028 - val_accuracy: 0.9558\n",
      "Epoch 90/400\n",
      "120/120 [==============================] - 0s 3ms/step - loss: 0.5595 - accuracy: 0.8429 - val_loss: 0.2093 - val_accuracy: 0.9508\n",
      "Epoch 91/400\n",
      "120/120 [==============================] - 0s 3ms/step - loss: 0.5486 - accuracy: 0.8491 - val_loss: 0.1891 - val_accuracy: 0.9608\n",
      "Epoch 92/400\n",
      "120/120 [==============================] - 0s 3ms/step - loss: 0.5561 - accuracy: 0.8438 - val_loss: 0.2128 - val_accuracy: 0.9400\n",
      "Epoch 93/400\n",
      "120/120 [==============================] - 0s 3ms/step - loss: 0.5477 - accuracy: 0.8467 - val_loss: 0.2132 - val_accuracy: 0.9442\n",
      "Epoch 94/400\n",
      "120/120 [==============================] - 0s 3ms/step - loss: 0.5470 - accuracy: 0.8492 - val_loss: 0.1859 - val_accuracy: 0.9617\n",
      "Epoch 95/400\n",
      "120/120 [==============================] - 0s 3ms/step - loss: 0.5403 - accuracy: 0.8479 - val_loss: 0.1928 - val_accuracy: 0.9583\n",
      "Epoch 96/400\n",
      "120/120 [==============================] - 0s 3ms/step - loss: 0.5374 - accuracy: 0.8512 - val_loss: 0.1985 - val_accuracy: 0.9558\n",
      "Epoch 96: early stopping\n"
     ]
    }
   ],
   "source": [
    "history = model.fit(\n",
    "                    train_x,\n",
    "                    train_y,\n",
    "                    epochs=400,\n",
    "                    batch_size=100,\n",
    "                    validation_data=(valid_x, valid_y),\n",
    "                    callbacks=[es_callback]\n",
    ")"
   ]
  },
  {
   "cell_type": "code",
   "execution_count": 150,
   "id": "1031b9fd",
   "metadata": {},
   "outputs": [
    {
     "name": "stdout",
     "output_type": "stream",
     "text": [
      "VALIDATION LOSS =  0.19850361347198486\n",
      "VALIDATION ACC  =  0.9558333158493042\n"
     ]
    }
   ],
   "source": [
    "print(\"VALIDATION LOSS = \", history.history['val_loss'][-1])\n",
    "print(\"VALIDATION ACC  = \", history.history['val_accuracy'][-1])"
   ]
  },
  {
   "cell_type": "code",
   "execution_count": 151,
   "id": "d478a36a",
   "metadata": {},
   "outputs": [
    {
     "data": {
      "image/png": "[encoded data removed]",
      "text/plain": [
       "<Figure size 432x288 with 1 Axes>"
      ]
     },
     "metadata": {},
     "output_type": "display_data"
    },
    {
     "data": {
      "image/png": "[encoded data removed]",
      "text/plain": [
       "<Figure size 432x288 with 1 Axes>"
      ]
     },
     "metadata": {},
     "output_type": "display_data"
    }
   ],
   "source": [
    "plot_loss_and_acc(history)"
   ]
  },
  {
   "cell_type": "code",
   "execution_count": 154,
   "id": "4d9a58a8",
   "metadata": {},
   "outputs": [
    {
     "name": "stdout",
     "output_type": "stream",
     "text": [
      "38/38 [==============================] - 0s 2ms/step\n"
     ]
    },
    {
     "data": {
      "image/png": "[encoded data removed]",
      "text/plain": [
       "<Figure size 864x576 with 1 Axes>"
      ]
     },
     "metadata": {},
     "output_type": "display_data"
    }
   ],
   "source": [
    "show_heatmap(model, test_x, test_y)"
   ]
  },
  {
   "cell_type": "markdown",
   "id": "5516085c",
   "metadata": {},
   "source": [
    "### Čuvanje rezultata i modela"
   ]
  },
  {
   "cell_type": "code",
   "execution_count": 157,
   "id": "04c008b6",
   "metadata": {},
   "outputs": [],
   "source": [
    "METOD_NUM = 1\n",
    "EKSP_NUM = 8"
   ]
  },
  {
   "cell_type": "code",
   "execution_count": null,
   "id": "3cbdb3eb",
   "metadata": {},
   "outputs": [],
   "source": [
    "zapisi_rezultate(METOD_NUM = METOD_NUM,\n",
    "                 EKSP_NUM = EKSP_NUM,\n",
    "                 acc = history.history['val_accuracy'],\n",
    "                 loss = history.history['val_loss'],\n",
    "                 val_acc = history.history['val_accuracy'],\n",
    "                 val_loss = history.history['val_loss'])"
   ]
  }
 ],
 "metadata": {
  "kernelspec": {
   "display_name": "Python 3 (ipykernel)",
   "language": "python",
   "name": "python3"
  },
  "language_info": {
   "codemirror_mode": {
    "name": "ipython",
    "version": 3
   },
   "file_extension": ".py",
   "mimetype": "text/x-python",
   "name": "python",
   "nbconvert_exporter": "python",
   "pygments_lexer": "ipython3",
   "version": "3.9.7"
  }
 },
 "nbformat": 4,
 "nbformat_minor": 5
}
