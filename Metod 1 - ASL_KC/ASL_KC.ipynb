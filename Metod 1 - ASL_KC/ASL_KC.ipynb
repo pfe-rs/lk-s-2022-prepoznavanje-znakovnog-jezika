{
 "cells": [
  {
   "cell_type": "markdown",
   "id": "861377af",
   "metadata": {},
   "source": [
    "# ASL Keypoint Classification"
   ]
  },
  {
   "cell_type": "code",
   "execution_count": 1,
   "id": "210844db",
   "metadata": {},
   "outputs": [],
   "source": [
    "import cv2\n",
    "import mediapipe as mp\n",
    "import time\n",
    "import pandas as pd\n",
    "import numpy as np\n",
    "import random\n",
    "import matplotlib.pyplot as plt\n",
    "from keras.utils import to_categorical"
   ]
  },
  {
   "cell_type": "code",
   "execution_count": 6,
   "id": "f5991428",
   "metadata": {},
   "outputs": [],
   "source": [
    "import numpy as np\n",
    "import pandas as pd\n",
    "import os\n",
    "os.environ['TF_CPP_MIN_LOG_LEVEL'] = '2'\n",
    "import sys\n",
    "import time\n",
    "import matplotlib.pyplot as plt\n",
    "import cv2\n",
    "import seaborn as sns\n",
    "sns.set_style('darkgrid')\n",
    "#import shutilju\n",
    "from sklearn.metrics import confusion_matrix, classification_report\n",
    "from sklearn.model_selection import train_test_split\n",
    "import tensorflow as tf\n",
    "from tensorflow import keras\n",
    "from tensorflow.keras.preprocessing.image import ImageDataGenerator\n",
    "from tensorflow.keras.layers import Dense, Activation,Dropout,Conv2D, MaxPooling2D,BatchNormalization\n",
    "from tensorflow.keras.optimizers import Adam, Adamax\n",
    "from tensorflow.keras.metrics import categorical_crossentropy\n",
    "from tensorflow.keras import regularizers\n",
    "from tensorflow.keras.models import Model\n",
    "from tensorflow.data import Dataset"
   ]
  },
  {
   "cell_type": "code",
   "execution_count": 7,
   "id": "a87db6ce",
   "metadata": {},
   "outputs": [],
   "source": [
    "from keras.models import Sequential\n",
    "from keras.layers import Conv2D, MaxPooling2D, Dense, Flatten, Dropout"
   ]
  },
  {
   "cell_type": "markdown",
   "id": "12cbd577",
   "metadata": {},
   "source": [
    "**Neke bitne funkcije se nalaze unutar posebnog fajla**"
   ]
  },
  {
   "cell_type": "code",
   "execution_count": 8,
   "id": "9feb30e5",
   "metadata": {},
   "outputs": [],
   "source": [
    "%run ../Funkcije.ipynb"
   ]
  },
  {
   "cell_type": "markdown",
   "id": "cb145da6",
   "metadata": {},
   "source": [
    "### Učitavanje keypoint baze podataka"
   ]
  },
  {
   "cell_type": "code",
   "execution_count": 9,
   "id": "c6977dc2",
   "metadata": {},
   "outputs": [],
   "source": [
    "data_path = r'../dataset/Synthetic ASL Alphabet - keypoints/' \n",
    "train_x, train_y, test_x, test_y, valid_x, valid_y = load_keypoint_database(data_path)"
   ]
  },
  {
   "cell_type": "code",
   "execution_count": 10,
   "id": "a7f22561",
   "metadata": {},
   "outputs": [],
   "source": [
    "NUM_OF_CLASSES = 24"
   ]
  },
  {
   "cell_type": "markdown",
   "id": "f6cb5d67",
   "metadata": {},
   "source": [
    "### Arhitektura"
   ]
  },
  {
   "cell_type": "code",
   "execution_count": 30,
   "id": "13e61c8a",
   "metadata": {},
   "outputs": [],
   "source": [
    "es_callback = tf.keras.callbacks.EarlyStopping(monitor='val_accuracy', patience=30, verbose=1)"
   ]
  },
  {
   "cell_type": "code",
   "execution_count": 31,
   "id": "f53c05b6",
   "metadata": {},
   "outputs": [
    {
     "name": "stdout",
     "output_type": "stream",
     "text": [
      "Model: \"sequential_3\"\n",
      "_________________________________________________________________\n",
      " Layer (type)                Output Shape              Param #   \n",
      "=================================================================\n",
      " dense_9 (Dense)             (None, 63)                4032      \n",
      "                                                                 \n",
      " dropout_3 (Dropout)         (None, 63)                0         \n",
      "                                                                 \n",
      " dense_10 (Dense)            (None, 42)                2688      \n",
      "                                                                 \n",
      " dense_11 (Dense)            (None, 24)                1032      \n",
      "                                                                 \n",
      "=================================================================\n",
      "Total params: 7,752\n",
      "Trainable params: 7,752\n",
      "Non-trainable params: 0\n",
      "_________________________________________________________________\n"
     ]
    }
   ],
   "source": [
    "model = tf.keras.models.Sequential([\n",
    "    tf.keras.layers.Input((21 * 3,)),\n",
    "    #tf.keras.layers.Dropout(0.2),\n",
    "    tf.keras.layers.Dense(63, activation='relu'),\n",
    "    tf.keras.layers.Dropout(0.1),\n",
    "    tf.keras.layers.Dense(42, activation='relu'),\n",
    "    tf.keras.layers.Dense(NUM_OF_CLASSES, activation='softmax')\n",
    "])\n",
    "\n",
    "model.compile(\n",
    "    optimizer=Adam(),\n",
    "    loss='categorical_crossentropy',\n",
    "    metrics=['accuracy']\n",
    ")\n",
    "\n",
    "model.summary()"
   ]
  },
  {
   "cell_type": "markdown",
   "id": "7d0cf7f9",
   "metadata": {},
   "source": [
    "### Treniranje"
   ]
  },
  {
   "cell_type": "code",
   "execution_count": 32,
   "id": "ec935138",
   "metadata": {
    "scrolled": true
   },
   "outputs": [
    {
     "name": "stdout",
     "output_type": "stream",
     "text": [
      "Epoch 1/400\n",
      "120/120 [==============================] - 1s 5ms/step - loss: 3.0671 - accuracy: 0.1004 - val_loss: 2.7989 - val_accuracy: 0.2642\n",
      "Epoch 2/400\n",
      "120/120 [==============================] - 0s 4ms/step - loss: 2.5688 - accuracy: 0.2313 - val_loss: 2.0288 - val_accuracy: 0.5133\n",
      "Epoch 3/400\n",
      "120/120 [==============================] - 0s 3ms/step - loss: 2.0660 - accuracy: 0.3606 - val_loss: 1.5363 - val_accuracy: 0.6717\n",
      "Epoch 4/400\n",
      "120/120 [==============================] - 0s 4ms/step - loss: 1.7997 - accuracy: 0.4484 - val_loss: 1.2788 - val_accuracy: 0.7717\n",
      "Epoch 5/400\n",
      "120/120 [==============================] - 0s 3ms/step - loss: 1.6399 - accuracy: 0.5010 - val_loss: 1.1189 - val_accuracy: 0.8058\n",
      "Epoch 6/400\n",
      "120/120 [==============================] - 0s 4ms/step - loss: 1.5203 - accuracy: 0.5380 - val_loss: 0.9811 - val_accuracy: 0.8283\n",
      "Epoch 7/400\n",
      "120/120 [==============================] - 0s 3ms/step - loss: 1.4156 - accuracy: 0.5775 - val_loss: 0.8873 - val_accuracy: 0.8175\n",
      "Epoch 8/400\n",
      "120/120 [==============================] - 0s 4ms/step - loss: 1.3385 - accuracy: 0.6053 - val_loss: 0.8403 - val_accuracy: 0.8933\n",
      "Epoch 9/400\n",
      "120/120 [==============================] - 0s 4ms/step - loss: 1.2784 - accuracy: 0.6232 - val_loss: 0.7825 - val_accuracy: 0.8592\n",
      "Epoch 10/400\n",
      "120/120 [==============================] - 0s 4ms/step - loss: 1.2338 - accuracy: 0.6423 - val_loss: 0.7474 - val_accuracy: 0.8967\n",
      "Epoch 11/400\n",
      "120/120 [==============================] - 0s 4ms/step - loss: 1.1974 - accuracy: 0.6538 - val_loss: 0.6957 - val_accuracy: 0.9075\n",
      "Epoch 12/400\n",
      "120/120 [==============================] - 0s 4ms/step - loss: 1.1617 - accuracy: 0.6652 - val_loss: 0.6841 - val_accuracy: 0.9008\n",
      "Epoch 13/400\n",
      "120/120 [==============================] - 0s 4ms/step - loss: 1.1221 - accuracy: 0.6733 - val_loss: 0.6348 - val_accuracy: 0.9108\n",
      "Epoch 14/400\n",
      "120/120 [==============================] - 0s 4ms/step - loss: 1.1008 - accuracy: 0.6839 - val_loss: 0.6280 - val_accuracy: 0.8750\n",
      "Epoch 15/400\n",
      "120/120 [==============================] - 0s 4ms/step - loss: 1.0770 - accuracy: 0.6998 - val_loss: 0.6105 - val_accuracy: 0.8542\n",
      "Epoch 16/400\n",
      "120/120 [==============================] - 0s 4ms/step - loss: 1.0530 - accuracy: 0.6944 - val_loss: 0.5860 - val_accuracy: 0.9475\n",
      "Epoch 17/400\n",
      "120/120 [==============================] - 0s 4ms/step - loss: 1.0281 - accuracy: 0.7092 - val_loss: 0.5698 - val_accuracy: 0.9100\n",
      "Epoch 18/400\n",
      "120/120 [==============================] - 0s 3ms/step - loss: 1.0082 - accuracy: 0.7132 - val_loss: 0.5624 - val_accuracy: 0.8975\n",
      "Epoch 19/400\n",
      "120/120 [==============================] - 0s 4ms/step - loss: 0.9872 - accuracy: 0.7218 - val_loss: 0.5390 - val_accuracy: 0.9375\n",
      "Epoch 20/400\n",
      "120/120 [==============================] - 0s 3ms/step - loss: 0.9711 - accuracy: 0.7296 - val_loss: 0.5299 - val_accuracy: 0.9333\n",
      "Epoch 21/400\n",
      "120/120 [==============================] - 0s 4ms/step - loss: 0.9475 - accuracy: 0.7373 - val_loss: 0.5162 - val_accuracy: 0.9275\n",
      "Epoch 22/400\n",
      "120/120 [==============================] - 0s 4ms/step - loss: 0.9346 - accuracy: 0.7362 - val_loss: 0.5031 - val_accuracy: 0.9450\n",
      "Epoch 23/400\n",
      "120/120 [==============================] - 0s 3ms/step - loss: 0.9150 - accuracy: 0.7458 - val_loss: 0.4940 - val_accuracy: 0.9292\n",
      "Epoch 24/400\n",
      "120/120 [==============================] - 0s 4ms/step - loss: 0.9013 - accuracy: 0.7441 - val_loss: 0.4965 - val_accuracy: 0.9008\n",
      "Epoch 25/400\n",
      "120/120 [==============================] - 0s 3ms/step - loss: 0.8894 - accuracy: 0.7474 - val_loss: 0.4573 - val_accuracy: 0.9425\n",
      "Epoch 26/400\n",
      "120/120 [==============================] - 0s 4ms/step - loss: 0.8724 - accuracy: 0.7533 - val_loss: 0.4395 - val_accuracy: 0.9508\n",
      "Epoch 27/400\n",
      "120/120 [==============================] - 0s 3ms/step - loss: 0.8607 - accuracy: 0.7613 - val_loss: 0.4404 - val_accuracy: 0.9258\n",
      "Epoch 28/400\n",
      "120/120 [==============================] - 0s 4ms/step - loss: 0.8456 - accuracy: 0.7639 - val_loss: 0.4432 - val_accuracy: 0.9300\n",
      "Epoch 29/400\n",
      "120/120 [==============================] - 0s 4ms/step - loss: 0.8325 - accuracy: 0.7650 - val_loss: 0.4176 - val_accuracy: 0.9350\n",
      "Epoch 30/400\n",
      "120/120 [==============================] - 0s 4ms/step - loss: 0.8290 - accuracy: 0.7620 - val_loss: 0.4122 - val_accuracy: 0.9400\n",
      "Epoch 31/400\n",
      "120/120 [==============================] - 0s 3ms/step - loss: 0.8161 - accuracy: 0.7707 - val_loss: 0.4004 - val_accuracy: 0.9475\n",
      "Epoch 32/400\n",
      "120/120 [==============================] - 0s 4ms/step - loss: 0.8080 - accuracy: 0.7744 - val_loss: 0.3863 - val_accuracy: 0.9450\n",
      "Epoch 33/400\n",
      "120/120 [==============================] - 0s 4ms/step - loss: 0.7973 - accuracy: 0.7811 - val_loss: 0.3873 - val_accuracy: 0.9317\n",
      "Epoch 34/400\n",
      "120/120 [==============================] - 0s 4ms/step - loss: 0.7932 - accuracy: 0.7802 - val_loss: 0.4035 - val_accuracy: 0.9383\n",
      "Epoch 35/400\n",
      "120/120 [==============================] - 0s 3ms/step - loss: 0.7872 - accuracy: 0.7800 - val_loss: 0.3747 - val_accuracy: 0.9458\n",
      "Epoch 36/400\n",
      "120/120 [==============================] - 0s 4ms/step - loss: 0.7757 - accuracy: 0.7858 - val_loss: 0.3690 - val_accuracy: 0.9542\n",
      "Epoch 37/400\n",
      "120/120 [==============================] - 0s 3ms/step - loss: 0.7624 - accuracy: 0.7910 - val_loss: 0.3517 - val_accuracy: 0.9492\n",
      "Epoch 38/400\n",
      "120/120 [==============================] - 0s 4ms/step - loss: 0.7531 - accuracy: 0.7911 - val_loss: 0.3545 - val_accuracy: 0.9442\n",
      "Epoch 39/400\n",
      "120/120 [==============================] - 0s 4ms/step - loss: 0.7446 - accuracy: 0.7952 - val_loss: 0.3352 - val_accuracy: 0.9567\n",
      "Epoch 40/400\n",
      "120/120 [==============================] - 1s 4ms/step - loss: 0.7432 - accuracy: 0.7889 - val_loss: 0.3352 - val_accuracy: 0.9442\n",
      "Epoch 41/400\n",
      "120/120 [==============================] - 0s 3ms/step - loss: 0.7326 - accuracy: 0.7935 - val_loss: 0.3358 - val_accuracy: 0.9533\n",
      "Epoch 42/400\n",
      "120/120 [==============================] - 0s 4ms/step - loss: 0.7240 - accuracy: 0.7990 - val_loss: 0.3289 - val_accuracy: 0.9558\n",
      "Epoch 43/400\n",
      "120/120 [==============================] - 0s 4ms/step - loss: 0.7261 - accuracy: 0.7984 - val_loss: 0.3323 - val_accuracy: 0.9425\n",
      "Epoch 44/400\n",
      "120/120 [==============================] - 0s 3ms/step - loss: 0.7081 - accuracy: 0.8034 - val_loss: 0.3099 - val_accuracy: 0.9542\n",
      "Epoch 45/400\n",
      "120/120 [==============================] - 0s 4ms/step - loss: 0.7077 - accuracy: 0.8058 - val_loss: 0.3138 - val_accuracy: 0.9442\n",
      "Epoch 46/400\n",
      "120/120 [==============================] - 0s 4ms/step - loss: 0.7058 - accuracy: 0.8037 - val_loss: 0.3091 - val_accuracy: 0.9517\n",
      "Epoch 47/400\n",
      "120/120 [==============================] - 0s 3ms/step - loss: 0.7024 - accuracy: 0.8064 - val_loss: 0.3241 - val_accuracy: 0.9375\n",
      "Epoch 48/400\n",
      "120/120 [==============================] - 0s 4ms/step - loss: 0.6946 - accuracy: 0.8073 - val_loss: 0.3091 - val_accuracy: 0.9433\n",
      "Epoch 49/400\n",
      "120/120 [==============================] - 0s 4ms/step - loss: 0.6849 - accuracy: 0.8106 - val_loss: 0.3126 - val_accuracy: 0.9525\n",
      "Epoch 50/400\n",
      "120/120 [==============================] - 0s 3ms/step - loss: 0.6894 - accuracy: 0.8098 - val_loss: 0.2929 - val_accuracy: 0.9542\n",
      "Epoch 51/400\n",
      "120/120 [==============================] - 0s 3ms/step - loss: 0.6736 - accuracy: 0.8177 - val_loss: 0.2886 - val_accuracy: 0.9542\n",
      "Epoch 52/400\n",
      "120/120 [==============================] - 0s 3ms/step - loss: 0.6694 - accuracy: 0.8087 - val_loss: 0.2823 - val_accuracy: 0.9408\n",
      "Epoch 53/400\n",
      "120/120 [==============================] - 0s 4ms/step - loss: 0.6741 - accuracy: 0.8102 - val_loss: 0.2906 - val_accuracy: 0.9483\n",
      "Epoch 54/400\n",
      "120/120 [==============================] - 1s 4ms/step - loss: 0.6602 - accuracy: 0.8222 - val_loss: 0.2717 - val_accuracy: 0.9542\n",
      "Epoch 55/400\n",
      "120/120 [==============================] - 0s 4ms/step - loss: 0.6599 - accuracy: 0.8182 - val_loss: 0.2812 - val_accuracy: 0.9483\n",
      "Epoch 56/400\n",
      "120/120 [==============================] - 0s 4ms/step - loss: 0.6562 - accuracy: 0.8204 - val_loss: 0.2701 - val_accuracy: 0.9517\n",
      "Epoch 57/400\n",
      "120/120 [==============================] - 0s 4ms/step - loss: 0.6562 - accuracy: 0.8167 - val_loss: 0.2926 - val_accuracy: 0.9450\n",
      "Epoch 58/400\n",
      "120/120 [==============================] - 0s 3ms/step - loss: 0.6493 - accuracy: 0.8210 - val_loss: 0.2604 - val_accuracy: 0.9542\n",
      "Epoch 59/400\n",
      "120/120 [==============================] - 0s 3ms/step - loss: 0.6407 - accuracy: 0.8227 - val_loss: 0.2806 - val_accuracy: 0.9475\n",
      "Epoch 60/400\n",
      "120/120 [==============================] - 0s 3ms/step - loss: 0.6328 - accuracy: 0.8239 - val_loss: 0.2646 - val_accuracy: 0.9500\n",
      "Epoch 61/400\n",
      "120/120 [==============================] - 0s 3ms/step - loss: 0.6337 - accuracy: 0.8271 - val_loss: 0.2519 - val_accuracy: 0.9617\n",
      "Epoch 62/400\n",
      "120/120 [==============================] - 0s 4ms/step - loss: 0.6305 - accuracy: 0.8228 - val_loss: 0.2753 - val_accuracy: 0.9417\n",
      "Epoch 63/400\n",
      "120/120 [==============================] - 0s 4ms/step - loss: 0.6307 - accuracy: 0.8211 - val_loss: 0.2859 - val_accuracy: 0.9417\n",
      "Epoch 64/400\n",
      "120/120 [==============================] - 0s 4ms/step - loss: 0.6232 - accuracy: 0.8263 - val_loss: 0.2476 - val_accuracy: 0.9542\n",
      "Epoch 65/400\n",
      "120/120 [==============================] - 0s 4ms/step - loss: 0.6108 - accuracy: 0.8265 - val_loss: 0.2590 - val_accuracy: 0.9517\n",
      "Epoch 66/400\n",
      "120/120 [==============================] - 1s 4ms/step - loss: 0.6182 - accuracy: 0.8273 - val_loss: 0.2462 - val_accuracy: 0.9567\n",
      "Epoch 67/400\n",
      "120/120 [==============================] - 0s 3ms/step - loss: 0.6164 - accuracy: 0.8281 - val_loss: 0.2523 - val_accuracy: 0.9525\n",
      "Epoch 68/400\n",
      "120/120 [==============================] - 0s 4ms/step - loss: 0.6112 - accuracy: 0.8291 - val_loss: 0.2402 - val_accuracy: 0.9533\n",
      "Epoch 69/400\n",
      "120/120 [==============================] - 0s 3ms/step - loss: 0.6082 - accuracy: 0.8282 - val_loss: 0.2448 - val_accuracy: 0.9558\n",
      "Epoch 70/400\n",
      "120/120 [==============================] - 0s 4ms/step - loss: 0.5912 - accuracy: 0.8341 - val_loss: 0.2499 - val_accuracy: 0.9500\n",
      "Epoch 71/400\n",
      "120/120 [==============================] - 0s 4ms/step - loss: 0.5934 - accuracy: 0.8377 - val_loss: 0.2637 - val_accuracy: 0.9358\n",
      "Epoch 72/400\n",
      "120/120 [==============================] - 0s 3ms/step - loss: 0.5959 - accuracy: 0.8344 - val_loss: 0.2360 - val_accuracy: 0.9533\n",
      "Epoch 73/400\n",
      "120/120 [==============================] - 0s 4ms/step - loss: 0.5898 - accuracy: 0.8361 - val_loss: 0.2394 - val_accuracy: 0.9542\n",
      "Epoch 74/400\n",
      "120/120 [==============================] - 0s 3ms/step - loss: 0.5922 - accuracy: 0.8354 - val_loss: 0.2389 - val_accuracy: 0.9508\n",
      "Epoch 75/400\n",
      "120/120 [==============================] - 0s 3ms/step - loss: 0.5810 - accuracy: 0.8411 - val_loss: 0.2559 - val_accuracy: 0.9367\n",
      "Epoch 76/400\n",
      "120/120 [==============================] - 0s 3ms/step - loss: 0.5820 - accuracy: 0.8375 - val_loss: 0.2261 - val_accuracy: 0.9558\n",
      "Epoch 77/400\n",
      "120/120 [==============================] - 0s 4ms/step - loss: 0.5775 - accuracy: 0.8407 - val_loss: 0.2212 - val_accuracy: 0.9575\n",
      "Epoch 78/400\n",
      "120/120 [==============================] - 0s 4ms/step - loss: 0.5835 - accuracy: 0.8372 - val_loss: 0.2249 - val_accuracy: 0.9575\n",
      "Epoch 79/400\n",
      "120/120 [==============================] - 0s 3ms/step - loss: 0.5708 - accuracy: 0.8415 - val_loss: 0.2317 - val_accuracy: 0.9483\n",
      "Epoch 80/400\n",
      "120/120 [==============================] - 0s 4ms/step - loss: 0.5685 - accuracy: 0.8417 - val_loss: 0.2153 - val_accuracy: 0.9550\n",
      "Epoch 81/400\n",
      "120/120 [==============================] - 0s 3ms/step - loss: 0.5633 - accuracy: 0.8397 - val_loss: 0.2208 - val_accuracy: 0.9558\n",
      "Epoch 82/400\n",
      "120/120 [==============================] - 0s 3ms/step - loss: 0.5616 - accuracy: 0.8420 - val_loss: 0.2494 - val_accuracy: 0.9375\n",
      "Epoch 83/400\n",
      "120/120 [==============================] - 0s 4ms/step - loss: 0.5732 - accuracy: 0.8349 - val_loss: 0.2168 - val_accuracy: 0.9583\n",
      "Epoch 84/400\n",
      "120/120 [==============================] - 0s 3ms/step - loss: 0.5643 - accuracy: 0.8401 - val_loss: 0.2275 - val_accuracy: 0.9483\n",
      "Epoch 85/400\n",
      "120/120 [==============================] - 0s 4ms/step - loss: 0.5585 - accuracy: 0.8437 - val_loss: 0.2131 - val_accuracy: 0.9592\n",
      "Epoch 86/400\n",
      "120/120 [==============================] - 0s 3ms/step - loss: 0.5558 - accuracy: 0.8454 - val_loss: 0.2078 - val_accuracy: 0.9608\n",
      "Epoch 87/400\n",
      "120/120 [==============================] - 0s 3ms/step - loss: 0.5488 - accuracy: 0.8461 - val_loss: 0.2200 - val_accuracy: 0.9508\n",
      "Epoch 88/400\n",
      "120/120 [==============================] - 0s 3ms/step - loss: 0.5498 - accuracy: 0.8460 - val_loss: 0.2263 - val_accuracy: 0.9450\n",
      "Epoch 89/400\n",
      "120/120 [==============================] - 0s 4ms/step - loss: 0.5474 - accuracy: 0.8493 - val_loss: 0.2037 - val_accuracy: 0.9550\n",
      "Epoch 90/400\n",
      "120/120 [==============================] - 0s 4ms/step - loss: 0.5499 - accuracy: 0.8475 - val_loss: 0.2125 - val_accuracy: 0.9508\n",
      "Epoch 91/400\n",
      "120/120 [==============================] - 0s 3ms/step - loss: 0.5463 - accuracy: 0.8488 - val_loss: 0.2107 - val_accuracy: 0.9608\n",
      "Epoch 91: early stopping\n"
     ]
    }
   ],
   "source": [
    "history = model.fit(\n",
    "                    train_x,\n",
    "                    train_y,\n",
    "                    epochs=400,\n",
    "                    batch_size=100,\n",
    "                    validation_data=(valid_x, valid_y),\n",
    "                    callbacks=[es_callback]\n",
    ")"
   ]
  },
  {
   "cell_type": "code",
   "execution_count": 33,
   "id": "1031b9fd",
   "metadata": {},
   "outputs": [
    {
     "name": "stdout",
     "output_type": "stream",
     "text": [
      "VALIDATION LOSS =  0.21071767807006836\n",
      "VALIDATION ACC  =  0.9608333110809326\n"
     ]
    }
   ],
   "source": [
    "print(\"VALIDATION LOSS = \", history.history['val_loss'][-1])\n",
    "print(\"VALIDATION ACC  = \", history.history['val_accuracy'][-1])"
   ]
  },
  {
   "cell_type": "code",
   "execution_count": 34,
   "id": "d478a36a",
   "metadata": {},
   "outputs": [
    {
     "data": {
      "image/png": "[encoded data removed]",
      "text/plain": [
       "<Figure size 432x288 with 1 Axes>"
      ]
     },
     "metadata": {},
     "output_type": "display_data"
    },
    {
     "data": {
      "image/png": "[encoded data removed]",
      "text/plain": [
       "<Figure size 432x288 with 1 Axes>"
      ]
     },
     "metadata": {},
     "output_type": "display_data"
    }
   ],
   "source": [
    "plot_loss_and_acc(history)"
   ]
  },
  {
   "cell_type": "code",
   "execution_count": 35,
   "id": "4d9a58a8",
   "metadata": {},
   "outputs": [
    {
     "name": "stdout",
     "output_type": "stream",
     "text": [
      "38/38 [==============================] - 0s 2ms/step\n"
     ]
    },
    {
     "data": {
      "image/png": "[encoded data removed]",
      "text/plain": [
       "<Figure size 864x576 with 1 Axes>"
      ]
     },
     "metadata": {},
     "output_type": "display_data"
    }
   ],
   "source": [
    "show_heatmap(model, test_x, test_y)"
   ]
  },
  {
   "cell_type": "markdown",
   "id": "5516085c",
   "metadata": {},
   "source": [
    "### Čuvanje rezultata i modela"
   ]
  },
  {
   "cell_type": "code",
   "execution_count": 36,
   "id": "04c008b6",
   "metadata": {},
   "outputs": [],
   "source": [
    "METOD_NUM = 1\n",
    "EKSP_NUM = 10"
   ]
  },
  {
   "cell_type": "code",
   "execution_count": 37,
   "id": "3cbdb3eb",
   "metadata": {},
   "outputs": [
    {
     "name": "stdout",
     "output_type": "stream",
     "text": [
      "model was saved as  ./Merenja/eksp_10/model_eksp_10.h5\n"
     ]
    }
   ],
   "source": [
    "zapisi_rezultate(METOD_NUM = METOD_NUM,\n",
    "                 EKSP_NUM = EKSP_NUM,\n",
    "                 acc = history.history['accuracy'],\n",
    "                 loss = history.history['loss'],\n",
    "                 val_acc = history.history['val_accuracy'],\n",
    "                 val_loss = history.history['val_loss'],\n",
    "                 model = model)"
   ]
  },
  {
   "cell_type": "code",
   "execution_count": 38,
   "id": "1cb93fa6",
   "metadata": {},
   "outputs": [
    {
     "data": {
      "text/plain": [
       "91"
      ]
     },
     "execution_count": 38,
     "metadata": {},
     "output_type": "execute_result"
    }
   ],
   "source": [
    "len(history.history['val_accuracy'])"
   ]
  },
  {
   "cell_type": "code",
   "execution_count": 1,
   "id": "4ab7cc9f",
   "metadata": {},
   "outputs": [
    {
     "name": "stdout",
     "output_type": "stream",
     "text": [
      "0.07999999821186066\n",
      "0.09600000083446503\n",
      "0.16200000047683716\n",
      "0.1899999976158142\n",
      "0.24400000274181366\n",
      "0.32899999618530273\n",
      "0.37299999594688416\n",
      "0.4269999861717224\n",
      "0.4309999942779541\n",
      "0.40299999713897705\n",
      "0.4790000021457672\n",
      "0.46000000834465027\n",
      "0.48500001430511475\n",
      "0.5099999904632568\n",
      "0.5210000276565552\n",
      "0.527999997138977\n",
      "0.503000020980835\n",
      "0.5460000038146973\n",
      "0.5450000166893005\n",
      "0.5440000295639038\n",
      "0.5809999704360962\n",
      "0.5540000200271606\n",
      "0.6000000238418579\n",
      "0.5929999947547913\n",
      "0.6190000176429749\n",
      "0.609000027179718\n",
      "0.6140000224113464\n",
      "0.6200000047683716\n",
      "0.6439999938011169\n",
      "0.6250000000000000\n",
      "0.6510000228881836\n",
      "0.6539999842643738\n",
      "0.6480000019073486\n",
      "0.6679999828338623\n",
      "0.6669999957084656\n",
      "0.6629999876022339\n",
      "0.6830000281333923\n",
      "0.6679999828338623\n",
      "0.6990000009536743\n",
      "0.6779999732971191\n",
      "0.6930000185966492\n",
      "0.7089999914169312\n",
      "0.6919999718666077\n",
      "0.7089999914169312\n",
      "0.6899999976158142\n",
      "0.6959999799728394\n",
      "0.7120000123977661\n",
      "0.6880000233650208\n",
      "0.7170000076293945\n",
      "0.7260000109672546\n",
      "0.7129999995231628\n",
      "0.7149999737739563\n",
      "0.7139999866485596\n",
      "0.7250000238418579\n",
      "0.7260000109672546\n",
      "0.7269999980926514\n",
      "0.7239999771118164\n",
      "0.7310000061988831\n",
      "0.7620000243186951\n",
      "0.7360000014305115\n",
      "0.7419999837875366\n",
      "0.7229999899864197\n",
      "0.7160000205039978\n",
      "0.7459999918937683\n",
      "0.7480000257492065\n",
      "0.7609999775886536\n",
      "0.7609999775886536\n",
      "0.7409999966621399\n",
      "0.7519999742507935\n",
      "0.7480000257492065\n",
      "0.7720000147819519\n",
      "0.7580000162124634\n",
      "0.7630000114440918\n",
      "0.7599999904632568\n",
      "0.7670000195503235\n",
      "0.7730000019073486\n",
      "0.7770000100135803\n",
      "0.7710000276565552\n",
      "0.7480000257492065\n",
      "0.753000020980835\n",
      "0.765999972820282\n",
      "0.7799999713897705\n",
      "0.7839999794960022\n",
      "0.781000018119812\n",
      "0.7839999794960022\n",
      "0.7860000133514404\n",
      "0.7749999761581421\n",
      "0.7799999713897705\n",
      "0.7760000228881836\n",
      "0.7889999747276306\n",
      "0.7850000262260437\n",
      "0.7950000166893005\n",
      "0.7929999828338623\n",
      "0.7950000166893005\n",
      "0.7889999747276306\n",
      "0.7940000295639038\n",
      "0.7739999890327454\n",
      "0.7839999794960022\n",
      "0.8009999990463257\n",
      "0.7900000214576721\n",
      "0.7950000166893005\n",
      "0.8050000071525574\n",
      "0.7879999876022339\n",
      "0.8080000281333923\n",
      "0.8169999718666077\n",
      "0.7919999957084656\n",
      "0.8040000200271606\n",
      "0.7879999876022339\n",
      "0.8009999990463257\n",
      "0.7839999794960022\n",
      "0.796999990940094\n",
      "0.796999990940094\n",
      "0.8059999942779541\n",
      "0.8069999814033508\n",
      "0.8040000200271606\n",
      "0.8109999895095825\n",
      "0.8119999766349792\n",
      "0.8159999847412109\n",
      "0.8069999814033508\n",
      "0.8029999732971191\n",
      "0.8119999766349792\n",
      "0.8069999814033508\n",
      "0.8169999718666077\n",
      "0.8199999928474426\n",
      "0.8140000104904175\n",
      "0.7940000295639038\n",
      "0.8059999942779541\n",
      "0.8100000023841858\n",
      "0.8069999814033508\n",
      "0.8140000104904175\n",
      "0.8130000233650208\n",
      "0.8259999752044678\n",
      "0.8130000233650208\n",
      "0.8169999718666077\n",
      "0.8199999928474426\n",
      "0.8220000267028809\n",
      "0.8090000152587891\n",
      "0.8259999752044678\n",
      "0.8209999799728394\n",
      "0.8119999766349792\n",
      "0.8069999814033508\n",
      "0.8180000185966492\n",
      "0.8190000057220459\n",
      "0.8259999752044678\n",
      "0.8199999928474426\n",
      "0.8270000219345093\n",
      "0.8149999976158142\n",
      "0.8270000219345093\n",
      "0.8309999704360962\n",
      "0.8259999752044678\n",
      "0.8220000267028809\n",
      "0.8230000138282776\n",
      "0.8270000219345093\n",
      "0.8230000138282776\n",
      "0.8209999799728394\n",
      "0.8299999833106995\n",
      "0.828000009059906\n",
      "0.8270000219345093\n",
      "0.8309999704360962\n",
      "0.8240000009536743\n",
      "0.8190000057220459\n",
      "0.8230000138282776\n",
      "0.8289999961853027\n",
      "0.8090000152587891\n",
      "0.8299999833106995\n",
      "0.8299999833106995\n",
      "0.8259999752044678\n",
      "0.8349999785423279\n",
      "0.8349999785423279\n",
      "0.8209999799728394\n",
      "0.8309999704360962\n",
      "0.8140000104904175\n",
      "0.8270000219345093\n",
      "0.8299999833106995\n",
      "0.8360000252723694\n",
      "0.8339999914169312\n",
      "0.8420000076293945\n",
      "0.8270000219345093\n",
      "0.824999988079071\n",
      "0.8379999995231628\n",
      "0.8289999961853027\n",
      "0.8330000042915344\n",
      "0.8339999914169312\n",
      "0.8379999995231628\n",
      "0.8339999914169312\n",
      "0.8360000252723694\n",
      "0.8270000219345093\n",
      "0.8420000076293945\n",
      "0.8270000219345093\n",
      "0.8420000076293945\n",
      "0.828000009059906\n",
      "0.8420000076293945\n",
      "0.8410000205039978\n",
      "0.8289999961853027\n",
      "0.847000002861023\n",
      "0.8220000267028809\n",
      "0.843999981880188\n",
      "0.8429999947547913\n",
      "0.8360000252723694\n",
      "0.8349999785423279\n",
      "0.8389999866485596\n",
      "0.8429999947547913\n",
      "0.843999981880188\n",
      "0.8489999771118164\n",
      "0.8389999866485596\n",
      "0.8370000123977661\n",
      "0.847000002861023\n",
      "0.8450000286102295\n",
      "0.8429999947547913\n",
      "0.8500000238418579\n",
      "0.8460000157356262\n",
      "0.8500000238418579\n",
      "0.8450000286102295\n",
      "0.8479999899864197\n",
      "0.843999981880188\n",
      "0.8500000238418579\n",
      "0.8479999899864197\n",
      "0.8420000076293945\n",
      "0.8460000157356262\n",
      "0.843999981880188\n",
      "0.8429999947547913\n",
      "0.8510000109672546\n",
      "0.8479999899864197\n",
      "0.8579999804496765\n",
      "0.8550000190734863\n",
      "0.8460000157356262\n",
      "0.8529999852180481\n",
      "0.8529999852180481\n",
      "0.8529999852180481\n",
      "0.8450000286102295\n",
      "0.8550000190734863\n",
      "0.8420000076293945\n",
      "0.8600000143051147\n",
      "0.8519999980926514\n",
      "0.847000002861023\n",
      "0.8529999852180481\n",
      "0.8460000157356262\n",
      "0.8460000157356262\n",
      "0.8460000157356262\n",
      "0.8410000205039978\n",
      "0.8460000157356262\n",
      "0.843999981880188\n",
      "0.8510000109672546\n",
      "0.8429999947547913\n",
      "0.8600000143051147\n",
      "0.8519999980926514\n",
      "0.8460000157356262\n",
      "0.8500000238418579\n",
      "0.8399999737739563\n",
      "0.859000027179718\n",
      "0.8560000061988831\n",
      "0.8569999933242798\n",
      "0.8529999852180481\n"
     ]
    }
   ],
   "source": [
    "path = r'D:/Projekat 2022/Metod 1 - ASL_KC/acc.txt'\n",
    "#path = os.path.join(path)\n",
    "\n",
    "with open(path) as f:\n",
    "    for line in f:\n",
    "        l = line.split('a')\n",
    "        print(l[0])\n",
    "        "
   ]
  },
  {
   "cell_type": "code",
   "execution_count": 2,
   "id": "7e48dac2",
   "metadata": {},
   "outputs": [
    {
     "ename": "FileNotFoundError",
     "evalue": "[Errno 2] No such file or directory: 'D:/Projekat 2022/Metoda 0 - Extended MNIST Network/Merenja/eksp_1/acc.txt'",
     "output_type": "error",
     "traceback": [
      "\u001b[1;31m---------------------------------------------------------------------------\u001b[0m",
      "\u001b[1;31mFileNotFoundError\u001b[0m                         Traceback (most recent call last)",
      "Cell \u001b[1;32mIn [2], line 11\u001b[0m\n\u001b[0;32m      9\u001b[0m path \u001b[38;5;241m=\u001b[39m os\u001b[38;5;241m.\u001b[39mpath\u001b[38;5;241m.\u001b[39mjoin(directory, eksp_path, file)\n\u001b[0;32m     10\u001b[0m data \u001b[38;5;241m=\u001b[39m []\n\u001b[1;32m---> 11\u001b[0m \u001b[38;5;28;01mwith\u001b[39;00m \u001b[38;5;28;43mopen\u001b[39;49m\u001b[43m(\u001b[49m\u001b[43mpath\u001b[49m\u001b[43m)\u001b[49m \u001b[38;5;28;01mas\u001b[39;00m file:\n\u001b[0;32m     12\u001b[0m     \u001b[38;5;28;01mfor\u001b[39;00m line \u001b[38;5;129;01min\u001b[39;00m file:\n\u001b[0;32m     13\u001b[0m         data_point \u001b[38;5;241m=\u001b[39m line\u001b[38;5;241m.\u001b[39msplit(\u001b[38;5;124m'\u001b[39m\u001b[38;5;124ma\u001b[39m\u001b[38;5;124m'\u001b[39m)[\u001b[38;5;241m0\u001b[39m]\n",
      "\u001b[1;31mFileNotFoundError\u001b[0m: [Errno 2] No such file or directory: 'D:/Projekat 2022/Metoda 0 - Extended MNIST Network/Merenja/eksp_1/acc.txt'"
     ]
    }
   ],
   "source": [
    "directory = r'D:/Projekat 2022/Metoda 0 - Extended MNIST Network/Merenja/'\n",
    "files = ['acc.txt', 'loss.txt', 'val_acc.txt', 'val_loss.txt']\n",
    "METOD_NUM = 1\n",
    "\n",
    "\n",
    "for eksp_num in range(1, 3):\n",
    "    eksp_path = r'eksp_' + str(eksp_num) + '/'\n",
    "    for file in files:\n",
    "        path = os.path.join(directory, eksp_path, file)\n",
    "        data = []\n",
    "        with open(path) as file:\n",
    "            for line in file:\n",
    "                data_point = line.split('a')[0]\n",
    "                data_point = data_point.split('l')[0]\n",
    "                data_point = data_point.split('v')[0]\n",
    "                data.append(data_point)\n",
    "\n",
    "        textfile = open(path, \"w\")\n",
    "\n",
    "        #Brise sve iz fajla\n",
    "        with textfile as file:\n",
    "            pass\n",
    "\n",
    "        textfile = open(path, \"w\")\n",
    "\n",
    "        for element in data:\n",
    "            textfile.write(element + \"\\n\")\n",
    "        textfile.close()\n",
    "\n",
    "    print(\"Written eksp_\" + str(eksp_num))\n",
    "        \n"
   ]
  },
  {
   "cell_type": "code",
   "execution_count": null,
   "id": "0343d284",
   "metadata": {},
   "outputs": [],
   "source": []
  }
 ],
 "metadata": {
  "kernelspec": {
   "display_name": "Python 3 (ipykernel)",
   "language": "python",
   "name": "python3"
  },
  "language_info": {
   "codemirror_mode": {
    "name": "ipython",
    "version": 3
   },
   "file_extension": ".py",
   "mimetype": "text/x-python",
   "name": "python",
   "nbconvert_exporter": "python",
   "pygments_lexer": "ipython3",
   "version": "3.9.7"
  },
  "vscode": {
   "interpreter": {
    "hash": "8de7c39f3c2ee6f0a8d4dba92fc2b723dac7a06ce0a26c69b3547894e2870368"
   }
  }
 },
 "nbformat": 4,
 "nbformat_minor": 5
}
